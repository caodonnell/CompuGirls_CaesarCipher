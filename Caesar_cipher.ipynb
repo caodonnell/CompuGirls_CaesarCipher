{
 "cells": [
  {
   "cell_type": "markdown",
   "metadata": {},
   "source": [
    "## <font color = \"blue\">The Caesar Cipher</font>\n",
    "\n",
    "In this activity, we'll use Python programming to encrypt and decrypt messages using a Caesar cipher."
   ]
  },
  {
   "cell_type": "markdown",
   "metadata": {},
   "source": [
    "<font color=red>**For the rest of this notebook, your tasks will always be bold and red like this.**</font>"
   ]
  },
  {
   "cell_type": "markdown",
   "metadata": {},
   "source": [
    "## <font color=blue>How to Use This Notebook</font>\n",
    "\n",
    "The webpage you are in is actually an app - much like the ones on your cellphone. This app consists of cells.\n",
    "\n",
    "An *input* cell looks like a light grey box with an `In [ ]:` on its left. Input cells each contain code - instructions to make the computer do something.\n",
    "\n",
    "To activate or select a cell, click anywhere inside of it. It will be outlined in a green box if it is selected.\n",
    "\n",
    "<font color=red>**Select the cell below and read its contents.**</font>"
   ]
  },
  {
   "cell_type": "code",
   "execution_count": null,
   "metadata": {},
   "outputs": [],
   "source": [
    "# Text that follows a \"#\" is known as a comment.\n",
    "# Comments do not affect your code in any way.\n",
    "# You should always read the comments at the top of each cell you interact with.\n",
    "# Comments will be used to describe what the cell's code is actually doing."
   ]
  },
  {
   "cell_type": "markdown",
   "metadata": {},
   "source": [
    "To execute or run a selected cell, hit `[Shift + Enter]` on your keyboard (i.e., press those two keys at the same time). \n",
    "\n",
    "Alternatively, you can press the <span style='background:#D3D3D3'> &#9656;| Run</span>  button in the menu bar at the top of the page. <br>\n",
    "\n",
    "If you accidentally double click on a text cell and it looks like a code cell, use `[Shift + Enter]` to put it back to normal. \n",
    "\n",
    "<font color=red>**Select the cell below and read its contents. Then, run the cell.**</font>"
   ]
  },
  {
   "cell_type": "code",
   "execution_count": null,
   "metadata": {},
   "outputs": [],
   "source": [
    "# Text that DOESN'T follow a \"#\" is considered code.\n",
    "# Lines of code are instructions given to your computer.\n",
    "# The line of code below is a \"print\" statement.\n",
    "# A print statement literally prints out the text between its quotes.\n",
    "\n",
    "print(\"Congrats! You have successfully run your first cell!\")"
   ]
  },
  {
   "cell_type": "markdown",
   "metadata": {},
   "source": [
    "Running a cell creates an *output* directly below it. An output can be some text, a graph, an interactive slider, or even nothing at all! For that last case, you know you have run a cell when the `In [ ]:` becomes `In [#]:`, where \"#\" is any number.  If the code is still in progress, the input cell will look like `In [*]:`.\n",
    "\n",
    "You can learn more about how Jupyter notebooks work at https://try.jupyter.org/"
   ]
  },
  {
   "cell_type": "markdown",
   "metadata": {},
   "source": [
    "___\n",
    "#### <font color=blue>Before we start playing with ciphers...</font>\n",
    "We need to load some software that will enable us to use a Caesar cipher.\n",
    "<font color=red>**Run the cell below.**</font>"
   ]
  },
  {
   "cell_type": "code",
   "execution_count": null,
   "metadata": {},
   "outputs": [],
   "source": [
    "# DO NOT CHANGE THIS CELL\n",
    "# Behind-the-scenes tools to simplify code\n",
    "%run Files/tools.ipynb "
   ]
  },
  {
   "cell_type": "markdown",
   "metadata": {},
   "source": [
    "----\n",
    "## <font color=\"blue\">Caesar Ciphers</font>\n",
    "\n",
    "Recall that the Caesar cipher is a form of a _substitution cipher_, where each letter is replaced with another letter based on a known rule. In this case, each letter is shifted by a fixed amount, as shown in the image below.\n",
    "\n",
    "<img src=\"Files/Caesar_cipher.jpg\" width =\"600\">"
   ]
  },
  {
   "cell_type": "markdown",
   "metadata": {},
   "source": [
    "----\n",
    "\n",
    "## <font color=\"blue\"> Encrypt Your First Message</font>\n",
    "\n",
    "In this activity, we'll stick with the Caesar cipher, and we'll use programming functions to encrypt and decrypt text. The software we loaded in an earlier cell (the one you didn't modify...) includes a `Caesar_encrypt` function and a `Caesar_decrypt` function. Let's start with the encryption function. <font color=\"red\">**Run the cell below.**</font>"
   ]
  },
  {
   "cell_type": "code",
   "execution_count": null,
   "metadata": {},
   "outputs": [],
   "source": [
    "Caesar_encrypt(\"Hello world!\")"
   ]
  },
  {
   "cell_type": "markdown",
   "metadata": {},
   "source": [
    "You just encrypted your first message! In Python programming speak, `Caesar_encrypt` was the programming _function_ that was used (i.e., this is what did the work), and the \"Hello world!\" text we enterred was an _argument_ that was given to the function.  When using text in Python, it has to be surrounded by quotation marks (either `\"` or `'`, as long as you use the same symbol on either side of the text).\n",
    "\n",
    "We can add another argument to define how many letters to shift over for the replacement. <font color=\"red\">**Run the cell below, which sets `shift` equal to a specific value.**</font>"
   ]
  },
  {
   "cell_type": "code",
   "execution_count": null,
   "metadata": {},
   "outputs": [],
   "source": [
    "Caesar_encrypt(\"Hello world!\", shift=1)"
   ]
  },
  {
   "cell_type": "markdown",
   "metadata": {},
   "source": [
    "Huh, the second encryption call didn't produce the same output as the first one. In Python programming, the `shift` argument is an _optional argument_. When you don't include an optional argument, a function will use some default value for it. <font color=\"red\">**Use the cell below to figure out what the default value of `shift` is.**</font> \n",
    "<font color=\"green\">By the way, if you don't want to re-type code, you can copy and paste from the previous cell(s).</font> 🙃"
   ]
  },
  {
   "cell_type": "code",
   "execution_count": null,
   "metadata": {},
   "outputs": [],
   "source": [
    "# Insert your code here\n",
    "\n",
    "\n"
   ]
  },
  {
   "cell_type": "markdown",
   "metadata": {},
   "source": [
    "<font size=\"5\">🛑</font> <font color=red>**Let's wait for everyone to get here before going further.**</font> In your group, decide who will report out your results and how you figured it out. If you had another bit of encrypted text (e.g., \"Ymnx nx f yjxy\"), how might you go about figuring out what shift was used to generate it? "
   ]
  },
  {
   "cell_type": "markdown",
   "metadata": {},
   "source": [
    "----\n",
    "\n",
    "## <font color=\"blue\">Decrypting & Exchanging Messages<font>\n",
    "\n",
    "Now let's get into the decryption function, `Caesar_decrypt` which takes a required argument of some string to decrypt, along with an optional argument for how big of a shift to use. <font color=\"red\">**Run the cell below.**</font>"
   ]
  },
  {
   "cell_type": "code",
   "execution_count": null,
   "metadata": {},
   "outputs": [],
   "source": [
    "Caesar_decrypt(\"Ifmmp xpsme!\", shift=1)"
   ]
  },
  {
   "cell_type": "markdown",
   "metadata": {},
   "source": [
    "<font color=\"red\">**Using both the `Caesar_encrypt` and `Caesar_decrypt` functions, pass secret messages among your fellow students.**</font> Whether you tell the recipient the shift value (or make them guess it) is up to you. The empty cells below are provided for you to use; if you need additional cells, you can (1) click `Insert` in the menu bar and select one of the options to add a new cell, or (2) click the **`+`** sign below the menu bar, which adds a new cell below the currently selected cell."
   ]
  },
  {
   "cell_type": "code",
   "execution_count": null,
   "metadata": {},
   "outputs": [],
   "source": []
  },
  {
   "cell_type": "code",
   "execution_count": null,
   "metadata": {},
   "outputs": [],
   "source": []
  },
  {
   "cell_type": "code",
   "execution_count": null,
   "metadata": {},
   "outputs": [],
   "source": []
  },
  {
   "cell_type": "code",
   "execution_count": null,
   "metadata": {},
   "outputs": [],
   "source": []
  },
  {
   "cell_type": "code",
   "execution_count": null,
   "metadata": {},
   "outputs": [],
   "source": []
  },
  {
   "cell_type": "code",
   "execution_count": null,
   "metadata": {},
   "outputs": [],
   "source": []
  },
  {
   "cell_type": "code",
   "execution_count": null,
   "metadata": {},
   "outputs": [],
   "source": []
  },
  {
   "cell_type": "code",
   "execution_count": null,
   "metadata": {},
   "outputs": [],
   "source": []
  },
  {
   "cell_type": "markdown",
   "metadata": {},
   "source": [
    "----\n",
    "\n",
    "#### <font color=\"blue\">Digging a bit more into how the code works</font>\n",
    "\n",
    "If you're interested in how the code works, the below is a function that encrypts lowercase text (unlike the functions you've used so far, which works with both upper- and lowercase letters. \n",
    "\n",
    "To explain how the code works, the key line is \n",
    "> `new_s = alphabet[(alphabet.index(old_s)+shift) % n_letters]`\n",
    "\n",
    "Let's break it down (following order of operations - same as in math class!):\n",
    "0. `old_s` : This is the letter in the text that we're focusing on now. Note that `old_s` is a variable - it's a placeholder for whatever letter we're looking at. So if text is \"hello\", the first letter is \"h\", and so the variable `old_s` is standing in for that \"h\".\n",
    "1. `alphabet.index(s)` : This looks for where the letter (represented by the variable `old_s`) is in the alphabet. For example, \"h\" is the 8th letter. However, Python begins counting at 0 (so, 0, 1, 2, 3, 4,....) instead of 1, so if `old_s` is representing \"h\" (the first letter of \"hello\"), this shift returns 7.\n",
    "2. `alphabet.index(s)+shift` : This adds `shift` to the position of the letter of interest. For example, with the \"h\" and a `shift` of 2, this will return 9.\n",
    "3. `(alphabet.index(s)+shift) % n_letters` : The `%` symbol is the modulo operator, which calculates a remainder. You can Google \"modulo\" to learn more about it. For our purposes, using the modulo operator helps if we're wrapping around the alphabet (e.g., from \"z\" to another letter).\n",
    "4. `alphabet[(alphabet.index(s)+shift) % n_letters]` : This shift now finds the new letter to encrypt our message. So, for \"h\", it'll return \"j\".\n",
    "4. Finally, the function assigns this new letter to the variable `new_s`."
   ]
  },
  {
   "cell_type": "code",
   "execution_count": null,
   "metadata": {},
   "outputs": [],
   "source": [
    "def Caesar_encrypt_lower(text, shift=2): \n",
    "    alphabet = 'abcdefghijklmnopqrstuvwxyz' # our alphabet\n",
    "    n_letters = len(alphabet) # total number of letters in the alphabet\n",
    "    \n",
    "    text = text.lower() # make sure text is lowercase\n",
    "    new_text = '' # empty string (variable which stores text) for the output\n",
    "    \n",
    "    for old_s in text: # loop over all of the letters in the text\n",
    "        \n",
    "        if old_s in alphabet: # if the letter is in the alphabet we've defined\n",
    "            new_s = alphabet[(alphabet.index(old_s)+shift) % n_letters]\n",
    "            new_text += new_s # adds the new letter to new_text\n",
    "                \n",
    "        else: # if the letter is not in the alphabet (e.g., it's a space character)\n",
    "            new_text += old_s\n",
    "            \n",
    "    return new_text"
   ]
  },
  {
   "cell_type": "markdown",
   "metadata": {},
   "source": [
    "<font color=\"green\">(Optional) Interested in trying your hand at programming? Let's start with how we would modify the code above to make a decryption function.</font> Copy and paste the `Caesar_encrypt_lower` function into the cell below and\n",
    "1. Rename the function (e.g., `Caesar_decrypt_lower`)\n",
    "2. Change the function so it'll decrypt text.\n",
    "\n",
    "Then use the cell(s) below to test out your decryption function!"
   ]
  },
  {
   "cell_type": "code",
   "execution_count": null,
   "metadata": {},
   "outputs": [],
   "source": []
  },
  {
   "cell_type": "code",
   "execution_count": null,
   "metadata": {},
   "outputs": [],
   "source": []
  },
  {
   "cell_type": "code",
   "execution_count": null,
   "metadata": {},
   "outputs": [],
   "source": []
  },
  {
   "cell_type": "markdown",
   "metadata": {},
   "source": [
    "<font color=\"green\">Still want more programming?</font> If you go back to the main Binder window, open the `Files` folder and click on the tools.ipynb notebook for more challenges!"
   ]
  },
  {
   "cell_type": "code",
   "execution_count": null,
   "metadata": {},
   "outputs": [],
   "source": []
  }
 ],
 "metadata": {
  "kernelspec": {
   "display_name": "Python 3",
   "language": "python",
   "name": "python3"
  },
  "language_info": {
   "codemirror_mode": {
    "name": "ipython",
    "version": 3
   },
   "file_extension": ".py",
   "mimetype": "text/x-python",
   "name": "python",
   "nbconvert_exporter": "python",
   "pygments_lexer": "ipython3",
   "version": "3.6.5"
  }
 },
 "nbformat": 4,
 "nbformat_minor": 2
}
