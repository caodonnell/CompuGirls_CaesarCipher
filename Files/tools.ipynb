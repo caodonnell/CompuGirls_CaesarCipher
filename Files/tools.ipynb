{
 "cells": [
  {
   "cell_type": "markdown",
   "metadata": {},
   "source": [
    "## Python programming methods to use the Caesar Cipher\n",
    "\n",
    "The code below is what we used to encrypt/decrypt text in class. <font color=\"red\">**Read through this notebook to learn about how the code works, and then have fun with the challenges below!**</font>\n",
    "\n",
    "First, we need to define the alphabet we're using:"
   ]
  },
  {
   "cell_type": "code",
   "execution_count": 4,
   "metadata": {},
   "outputs": [],
   "source": [
    "# This is the alphabet that the cipher will use\n",
    "alphabet = 'abcdefghijklmnopqrstuvwxyz'"
   ]
  },
  {
   "cell_type": "markdown",
   "metadata": {},
   "source": [
    "Now, let's set up our encryption function. Each letter in the text will be advanced by the `shift` number of letters. For example, if shift is 3, \"a\" will be returned as \"d\", and \"z\" will be returned as \"c\"(since the alphabet will wrap around). This code also preserves if something is upper- or lowercase.\n",
    "\n",
    "To explain how the code works, the key line is \n",
    "> `new_s = alphabet[(alphabet.index(old_s)+shift) % n_letters]`\n",
    "\n",
    "Let's break it down (following order of operations - same as in math class!):\n",
    "0. `old_s` : This is the letter in the text that we're focusing on now. Note that `old_s` is a variable - it's a placeholder for whatever letter we're looking at. So if text is \"hello\", the first letter is \"h\", and so the variable `old_s` is standing in for that \"h\".\n",
    "1. `alphabet.index(s)` : This looks for where the letter (represented by the variable `old_s`) is in the alphabet. For example, \"h\" is the 8th letter. However, Python begins counting at 0 (so, 0, 1, 2, 3, 4,....) instead of 1, so if `old_s` is representing \"h\" (the first letter of \"hello\"), this shift returns 7.\n",
    "2. `alphabet.index(s)+shift` : This adds `shift` to the position of the letter of interest. For example, with the \"h\" and a `shift` of 3, this will return 10.\n",
    "3. `(alphabet.index(s)+shift) % n_letters` : The `%` symbol is the modulo operator, which calculates a remainder. You can Google \"modulo\" to learn more about it. For our purposes, using the modulo operator helps if we're wrapping around the alphabet (e.g., from \"z\" to another letter).\n",
    "4. `alphabet[(alphabet.index(s)+shift) % n_letters]` : This shift now finds the new letter to encrypt our message. So, for \"h\", it'll return \"k\".\n",
    "4. Finally, the function assigns this new letter to the variable `new_s`."
   ]
  },
  {
   "cell_type": "code",
   "execution_count": 7,
   "metadata": {},
   "outputs": [
    {
     "data": {
      "text/plain": [
       "'khoor Khoor'"
      ]
     },
     "execution_count": 7,
     "metadata": {},
     "output_type": "execute_result"
    }
   ],
   "source": [
    "def Caesar_encrypt(text, shift=3):\n",
    "    global alphabet # references the alphabet above - note it only has lowercase letters!\n",
    "    n_letters = len(alphabet) # total number of letters in the alphabet\n",
    "    \n",
    "    new_text = '' # empty string (variable which stores text) for the output\n",
    "    \n",
    "    for old_s in text: # loop over all of the letters in the text\n",
    "        \n",
    "        if old_s.lower() in alphabet: # if the (lowercase) letter is in the alphabet we've defined\n",
    "            if old_s.isupper(): # if the letter is uppercase\n",
    "                old_s = old_s.lower() # make old_s lowercase (since alphabet only has lowercase letters)\n",
    "                new_s = alphabet[(alphabet.index(old_s)+shift) % n_letters]\n",
    "                new_text += new_s.upper() # adds the new letter to new_text, and makes it uppercase\n",
    "                \n",
    "            else: # if the letter is not uppercase\n",
    "                new_s = alphabet[(alphabet.index(old_s)+shift) % n_letters]\n",
    "                new_text += new_s\n",
    "                \n",
    "        else: # if the letter is not in the alphabet (e.g., it's a space character)\n",
    "            new_text += old_s\n",
    "            \n",
    "    return new_text  "
   ]
  },
  {
   "cell_type": "markdown",
   "metadata": {},
   "source": [
    "And that's it! A few programming notes:\n",
    "* To convert each letter in our text, we use a `for` loop, which goes through each letter in the text string one by one. You can also use this type of statement to loop over items in a list.\n",
    "* This code uses a few `if-else` statements. These are basically creating different cases we handle - (1) is something a letter or another character (e.g., a space or a number), and (2) is the letter upper- or lowercase?\n",
    "* Python works through indentations. If two lines are at the same indent level, they're in the same \"group\", and anything indented further in is depedendent on the preceding line. So, lines 9-20 are all indented within the `for old_s in text` line, which means those lines will be done for each letter in `text`. Similarly, following the `if old_s in alphabet` line, lines 10-17 are indented further in. That means those 7 lines will happen if `old_s` is indeed within `alphabet`, but if that statement isn't true, we'll jump down to line 19 and do the `else`. And, more generally, since everything after line 1 is indented, all of the lines are part of the function `Caesar_encrypt`. If you don't properly indent your code, it will not work as intended.\n",
    "\n",
    "Now let's do the decryption function:"
   ]
  },
  {
   "cell_type": "code",
   "execution_count": 11,
   "metadata": {},
   "outputs": [],
   "source": [
    "def Caesar_decrypt(text, shift=3):\n",
    "    global alphabet \n",
    "    n_letters = len(alphabet) \n",
    "    \n",
    "    new_text = '' \n",
    "    \n",
    "    for old_s in text: \n",
    "        \n",
    "        if old_s.lower() in alphabet:\n",
    "            \n",
    "            if old_s.isupper(): \n",
    "                old_s = old_s.lower() \n",
    "                new_s = alphabet[(alphabet.index(old_s)-shift) % n_letters]\n",
    "                new_text += new_s.upper() \n",
    "                \n",
    "            else: \n",
    "                new_s = alphabet[(alphabet.index(old_s)-shift) % n_letters]\n",
    "                new_text += new_s\n",
    "                \n",
    "        else: \n",
    "            new_text += old_s\n",
    "            \n",
    "    return new_text  "
   ]
  },
  {
   "cell_type": "markdown",
   "metadata": {},
   "source": [
    "Compare the encryption and decryption functions. What differences are there?\n",
    "\n",
    "Since the two functions are so similar, we can combine the two, where we've now added a variable for what direction the function goes in:"
   ]
  },
  {
   "cell_type": "code",
   "execution_count": 5,
   "metadata": {},
   "outputs": [],
   "source": [
    "# This function accepts a few options for direction:\n",
    "#   1. \"encrypt\" or \"e\" means it'll encypt the text\n",
    "#   2. \"decrypt\" or \"d\" means it'll decrypt the text\n",
    "# Note that this function defaults to encryption\n",
    "\n",
    "def Caesar_cipher(text, shift=3, direction='encrypt'):\n",
    "    global alphabet \n",
    "    n_letters = len(alphabet) \n",
    "    \n",
    "    new_text = '' \n",
    "    \n",
    "    if direction == 'decrypt' or direction ==\"d\": shift = -1*shift # reverse the polarity\n",
    "    \n",
    "    for old_s in text: \n",
    "        \n",
    "        if old_s.lower() in alphabet:\n",
    "            \n",
    "            if old_s.isupper(): \n",
    "                old_s = old_s.lower() \n",
    "                new_s = alphabet[(alphabet.index(old_s)+shift) % n_letters]\n",
    "                new_text += new_s.upper() \n",
    "                \n",
    "            else: \n",
    "                new_s = alphabet[(alphabet.index(old_s)+shift) % n_letters]\n",
    "                new_text += new_s\n",
    "                \n",
    "        else: \n",
    "            new_text += old_s\n",
    "            \n",
    "    return new_text  "
   ]
  },
  {
   "cell_type": "markdown",
   "metadata": {},
   "source": [
    "----\n",
    "\n",
    "And now onto the challenges! <font color=\"green\">Hint: Copy and paste code from above and modify it instead of typing everything from scratch!</font> Also, note that these challenges do not have to be done in order, so depending on how much time you have, feel free to pick the challenge(s) that seem most interesting to you.\n",
    "\n",
    "## Challenge #1: What happens if you have negative values for `shift`?\n",
    "\n",
    "You can test some cases below, or think carefully about how the code work. <font color = \"red\">**How does using a positive or negative shift affect the differences between the `encrypt` or `decrypt` methods? Can you find a negative value for `shift` that outputs the same encrypted text as the positive value `shift=3`?**</font>\n"
   ]
  },
  {
   "cell_type": "code",
   "execution_count": null,
   "metadata": {},
   "outputs": [],
   "source": [
    "# Insert your code here!\n",
    "\n",
    "\n",
    "\n"
   ]
  },
  {
   "cell_type": "markdown",
   "metadata": {},
   "source": [
    "## Challenge #2: How can we more efficiently decrypt a method with an unknown shift?\n",
    "\n",
    "In the main activity, we briefly touched on how it is may be difficult to decrypt a message by hand if you don't know what shift was used. However, computers make that much easier. <font color=\"red\">Use Google to learn about Python's `range` function, and combining `range` with the some of the techniques above, **write the shortest code possible (hint: not necessarily shortest output possible...) to decrypt the following messages:**</font>    \n",
    "* \"Xli uymgo fvsar jsb nyqtw sziv e pedc hsk\"\n",
    "* \"Vjg hkxg dqzkpi ykbctfu lwor swkemna\"\n",
    "* \"kcdis ja wgvxf lpvmou, epybz ht qjr\"\n",
    "* \"Yfn mvozexcp hlztb urwk qvsirj aldg\"\n"
   ]
  },
  {
   "cell_type": "code",
   "execution_count": null,
   "metadata": {},
   "outputs": [],
   "source": [
    "# Insert your code here!\n",
    "\n",
    "\n",
    "\n"
   ]
  },
  {
   "cell_type": "markdown",
   "metadata": {},
   "source": [
    "## Challenge #3: Modify the code so it can also encrypt numbers\n",
    "\n",
    "<font color=\"red\">**Add in the ability for your code to encrypt numbers.**</font> Some things to consider:\n",
    "1. I highly recommend not modifying `alphabet` - either define something new (e.g., `my_alphabet`) or add onto it (e.g., add a `numbers`).\n",
    "2. Can you just add numbers onto the alphabet? If you put them at the end (\"abc...xyz123\"), what happens if you have a shift of 3 and your message is \"I want to sleep ZZZ\"?\n",
    "3. The code above goes one by one through the letters in the input text (technically speaking, the `for` loop handles each character indvidually). How will your code handle a number with multiple digits, like \"11\" or \"43242\"?"
   ]
  },
  {
   "cell_type": "code",
   "execution_count": null,
   "metadata": {},
   "outputs": [],
   "source": [
    "# Insert your code here!\n",
    "\n",
    "\n",
    "\n"
   ]
  },
  {
   "cell_type": "markdown",
   "metadata": {},
   "source": [
    "## Challenge #4: Come up with your own cipher!\n",
    "\n",
    "A Caesar cipher is just one way to do a cipher. Some other ciphers to think about include\n",
    "1. Substitution cipher, where letters are randomly assigned to replace other letters: https://en.wikipedia.org/wiki/Substitution_cipher\n",
    "2. Transposition cipher, where letters within text are switched around: https://en.wikipedia.org/wiki/Transposition_cipher\n",
    "3. Atabash, where the alphabet is reversed: https://en.wikipedia.org/wiki/Atbash\n",
    "4. Affine cipher, where a mathematical formula decides how letters are replaced: https://en.wikipedia.org/wiki/Affine_cipher\n",
    "\n",
    "<font color=\"red\">**Pick your favorite cipher, and create a function for it below!**</font> You may want to consider starting with only lowercase letters, and then add complexity to the function once it works."
   ]
  },
  {
   "cell_type": "code",
   "execution_count": null,
   "metadata": {},
   "outputs": [],
   "source": [
    "# Insert your code here!\n",
    "\n",
    "\n",
    "\n"
   ]
  }
 ],
 "metadata": {
  "kernelspec": {
   "display_name": "Python 3",
   "language": "python",
   "name": "python3"
  },
  "language_info": {
   "codemirror_mode": {
    "name": "ipython",
    "version": 3
   },
   "file_extension": ".py",
   "mimetype": "text/x-python",
   "name": "python",
   "nbconvert_exporter": "python",
   "pygments_lexer": "ipython3",
   "version": "3.6.5"
  }
 },
 "nbformat": 4,
 "nbformat_minor": 2
}
